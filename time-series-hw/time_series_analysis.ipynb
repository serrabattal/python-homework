{
 "cells": [
  {
   "cell_type": "code",
   "execution_count": 15,
   "metadata": {},
   "outputs": [],
   "source": [
    "import numpy as np\n",
    "import pandas as pd\n",
    "from pathlib import Path\n",
    "%matplotlib inline"
   ]
  },
  {
   "cell_type": "markdown",
   "metadata": {},
   "source": [
    "# Return Forecasting: Read Historical Daily Yen Futures Data\n",
    "In this notebook, you will load historical Dollar-Yen exchange rate futures data and apply time series analysis and modeling to determine whether there is any predictable behavior."
   ]
  },
  {
   "cell_type": "code",
   "execution_count": 16,
   "metadata": {},
   "outputs": [
    {
     "data": {
      "text/html": [
       "<div>\n",
       "<style scoped>\n",
       "    .dataframe tbody tr th:only-of-type {\n",
       "        vertical-align: middle;\n",
       "    }\n",
       "\n",
       "    .dataframe tbody tr th {\n",
       "        vertical-align: top;\n",
       "    }\n",
       "\n",
       "    .dataframe thead th {\n",
       "        text-align: right;\n",
       "    }\n",
       "</style>\n",
       "<table border=\"1\" class=\"dataframe\">\n",
       "  <thead>\n",
       "    <tr style=\"text-align: right;\">\n",
       "      <th></th>\n",
       "      <th>Open</th>\n",
       "      <th>High</th>\n",
       "      <th>Low</th>\n",
       "      <th>Last</th>\n",
       "      <th>Change</th>\n",
       "      <th>Settle</th>\n",
       "      <th>Volume</th>\n",
       "      <th>Previous Day Open Interest</th>\n",
       "    </tr>\n",
       "    <tr>\n",
       "      <th>Date</th>\n",
       "      <th></th>\n",
       "      <th></th>\n",
       "      <th></th>\n",
       "      <th></th>\n",
       "      <th></th>\n",
       "      <th></th>\n",
       "      <th></th>\n",
       "      <th></th>\n",
       "    </tr>\n",
       "  </thead>\n",
       "  <tbody>\n",
       "    <tr>\n",
       "      <th>1976-08-02</th>\n",
       "      <td>3398.0</td>\n",
       "      <td>3401.0</td>\n",
       "      <td>3398.0</td>\n",
       "      <td>3401.0</td>\n",
       "      <td>NaN</td>\n",
       "      <td>3401.0</td>\n",
       "      <td>2.0</td>\n",
       "      <td>1.0</td>\n",
       "    </tr>\n",
       "    <tr>\n",
       "      <th>1976-08-03</th>\n",
       "      <td>3401.0</td>\n",
       "      <td>3401.0</td>\n",
       "      <td>3401.0</td>\n",
       "      <td>3401.0</td>\n",
       "      <td>NaN</td>\n",
       "      <td>3401.0</td>\n",
       "      <td>0.0</td>\n",
       "      <td>1.0</td>\n",
       "    </tr>\n",
       "    <tr>\n",
       "      <th>1976-08-04</th>\n",
       "      <td>3401.0</td>\n",
       "      <td>3401.0</td>\n",
       "      <td>3401.0</td>\n",
       "      <td>3401.0</td>\n",
       "      <td>NaN</td>\n",
       "      <td>3401.0</td>\n",
       "      <td>0.0</td>\n",
       "      <td>1.0</td>\n",
       "    </tr>\n",
       "    <tr>\n",
       "      <th>1976-08-05</th>\n",
       "      <td>3401.0</td>\n",
       "      <td>3401.0</td>\n",
       "      <td>3401.0</td>\n",
       "      <td>3401.0</td>\n",
       "      <td>NaN</td>\n",
       "      <td>3401.0</td>\n",
       "      <td>0.0</td>\n",
       "      <td>1.0</td>\n",
       "    </tr>\n",
       "    <tr>\n",
       "      <th>1976-08-06</th>\n",
       "      <td>3401.0</td>\n",
       "      <td>3401.0</td>\n",
       "      <td>3401.0</td>\n",
       "      <td>3401.0</td>\n",
       "      <td>NaN</td>\n",
       "      <td>3401.0</td>\n",
       "      <td>0.0</td>\n",
       "      <td>1.0</td>\n",
       "    </tr>\n",
       "  </tbody>\n",
       "</table>\n",
       "</div>"
      ],
      "text/plain": [
       "              Open    High     Low    Last  Change  Settle  Volume  \\\n",
       "Date                                                                 \n",
       "1976-08-02  3398.0  3401.0  3398.0  3401.0     NaN  3401.0     2.0   \n",
       "1976-08-03  3401.0  3401.0  3401.0  3401.0     NaN  3401.0     0.0   \n",
       "1976-08-04  3401.0  3401.0  3401.0  3401.0     NaN  3401.0     0.0   \n",
       "1976-08-05  3401.0  3401.0  3401.0  3401.0     NaN  3401.0     0.0   \n",
       "1976-08-06  3401.0  3401.0  3401.0  3401.0     NaN  3401.0     0.0   \n",
       "\n",
       "            Previous Day Open Interest  \n",
       "Date                                    \n",
       "1976-08-02                         1.0  \n",
       "1976-08-03                         1.0  \n",
       "1976-08-04                         1.0  \n",
       "1976-08-05                         1.0  \n",
       "1976-08-06                         1.0  "
      ]
     },
     "execution_count": 16,
     "metadata": {},
     "output_type": "execute_result"
    }
   ],
   "source": [
    "# Futures contract on the Yen-dollar exchange rate:\n",
    "# This is the continuous chain of the futures contracts that are 1 month to expiration\n",
    "yen_futures = pd.read_csv(\n",
    "    Path(\"yen.csv\"), index_col=\"Date\", infer_datetime_format=True, parse_dates=True\n",
    ")\n",
    "yen_futures.head()"
   ]
  },
  {
   "cell_type": "code",
   "execution_count": 17,
   "metadata": {},
   "outputs": [
    {
     "data": {
      "text/html": [
       "<div>\n",
       "<style scoped>\n",
       "    .dataframe tbody tr th:only-of-type {\n",
       "        vertical-align: middle;\n",
       "    }\n",
       "\n",
       "    .dataframe tbody tr th {\n",
       "        vertical-align: top;\n",
       "    }\n",
       "\n",
       "    .dataframe thead th {\n",
       "        text-align: right;\n",
       "    }\n",
       "</style>\n",
       "<table border=\"1\" class=\"dataframe\">\n",
       "  <thead>\n",
       "    <tr style=\"text-align: right;\">\n",
       "      <th></th>\n",
       "      <th>Open</th>\n",
       "      <th>High</th>\n",
       "      <th>Low</th>\n",
       "      <th>Last</th>\n",
       "      <th>Change</th>\n",
       "      <th>Settle</th>\n",
       "      <th>Volume</th>\n",
       "      <th>Previous Day Open Interest</th>\n",
       "    </tr>\n",
       "    <tr>\n",
       "      <th>Date</th>\n",
       "      <th></th>\n",
       "      <th></th>\n",
       "      <th></th>\n",
       "      <th></th>\n",
       "      <th></th>\n",
       "      <th></th>\n",
       "      <th></th>\n",
       "      <th></th>\n",
       "    </tr>\n",
       "  </thead>\n",
       "  <tbody>\n",
       "    <tr>\n",
       "      <th>1990-01-02</th>\n",
       "      <td>6954.0</td>\n",
       "      <td>6954.0</td>\n",
       "      <td>6835.0</td>\n",
       "      <td>6847.0</td>\n",
       "      <td>NaN</td>\n",
       "      <td>6847.0</td>\n",
       "      <td>48336.0</td>\n",
       "      <td>51473.0</td>\n",
       "    </tr>\n",
       "    <tr>\n",
       "      <th>1990-01-03</th>\n",
       "      <td>6877.0</td>\n",
       "      <td>6910.0</td>\n",
       "      <td>6865.0</td>\n",
       "      <td>6887.0</td>\n",
       "      <td>NaN</td>\n",
       "      <td>6887.0</td>\n",
       "      <td>38206.0</td>\n",
       "      <td>53860.0</td>\n",
       "    </tr>\n",
       "    <tr>\n",
       "      <th>1990-01-04</th>\n",
       "      <td>6937.0</td>\n",
       "      <td>7030.0</td>\n",
       "      <td>6924.0</td>\n",
       "      <td>7008.0</td>\n",
       "      <td>NaN</td>\n",
       "      <td>7008.0</td>\n",
       "      <td>49649.0</td>\n",
       "      <td>55699.0</td>\n",
       "    </tr>\n",
       "    <tr>\n",
       "      <th>1990-01-05</th>\n",
       "      <td>6952.0</td>\n",
       "      <td>6985.0</td>\n",
       "      <td>6942.0</td>\n",
       "      <td>6950.0</td>\n",
       "      <td>NaN</td>\n",
       "      <td>6950.0</td>\n",
       "      <td>29944.0</td>\n",
       "      <td>53111.0</td>\n",
       "    </tr>\n",
       "    <tr>\n",
       "      <th>1990-01-08</th>\n",
       "      <td>6936.0</td>\n",
       "      <td>6972.0</td>\n",
       "      <td>6936.0</td>\n",
       "      <td>6959.0</td>\n",
       "      <td>NaN</td>\n",
       "      <td>6959.0</td>\n",
       "      <td>19763.0</td>\n",
       "      <td>52072.0</td>\n",
       "    </tr>\n",
       "  </tbody>\n",
       "</table>\n",
       "</div>"
      ],
      "text/plain": [
       "              Open    High     Low    Last  Change  Settle   Volume  \\\n",
       "Date                                                                  \n",
       "1990-01-02  6954.0  6954.0  6835.0  6847.0     NaN  6847.0  48336.0   \n",
       "1990-01-03  6877.0  6910.0  6865.0  6887.0     NaN  6887.0  38206.0   \n",
       "1990-01-04  6937.0  7030.0  6924.0  7008.0     NaN  7008.0  49649.0   \n",
       "1990-01-05  6952.0  6985.0  6942.0  6950.0     NaN  6950.0  29944.0   \n",
       "1990-01-08  6936.0  6972.0  6936.0  6959.0     NaN  6959.0  19763.0   \n",
       "\n",
       "            Previous Day Open Interest  \n",
       "Date                                    \n",
       "1990-01-02                     51473.0  \n",
       "1990-01-03                     53860.0  \n",
       "1990-01-04                     55699.0  \n",
       "1990-01-05                     53111.0  \n",
       "1990-01-08                     52072.0  "
      ]
     },
     "execution_count": 17,
     "metadata": {},
     "output_type": "execute_result"
    }
   ],
   "source": [
    "# Trim the dataset to begin on January 1st, 1990\n",
    "yen_futures = yen_futures.loc[\"1990-01-01\":, :]\n",
    "yen_futures.head()"
   ]
  },
  {
   "cell_type": "markdown",
   "metadata": {},
   "source": [
    " # Return Forecasting: Initial Time-Series Plotting"
   ]
  },
  {
   "cell_type": "markdown",
   "metadata": {},
   "source": [
    " Start by plotting the \"Settle\" price. Do you see any patterns, long-term and/or short?"
   ]
  },
  {
   "cell_type": "code",
   "execution_count": 18,
   "metadata": {},
   "outputs": [
    {
     "data": {
      "text/plain": [
       "<AxesSubplot:xlabel='Date'>"
      ]
     },
     "execution_count": 18,
     "metadata": {},
     "output_type": "execute_result"
    },
    {
     "data": {
      "image/png": "[encoded data removed]",
      "text/plain": [
       "<Figure size 432x288 with 1 Axes>"
      ]
     },
     "metadata": {
      "needs_background": "light"
     },
     "output_type": "display_data"
    }
   ],
   "source": [
    "# Plot just the \"Settle\" column from the dataframe:\n",
    "yen_futures.plot(y=[\"Settle\"])"
   ]
  },
  {
   "cell_type": "markdown",
   "metadata": {},
   "source": [
    "---"
   ]
  },
  {
   "cell_type": "markdown",
   "metadata": {},
   "source": [
    "# Decomposition Using a Hodrick-Prescott Filter"
   ]
  },
  {
   "cell_type": "markdown",
   "metadata": {},
   "source": [
    " Using a Hodrick-Prescott Filter, decompose the Settle price into a trend and noise."
   ]
  },
  {
   "cell_type": "code",
   "execution_count": 19,
   "metadata": {},
   "outputs": [
    {
     "data": {
      "text/plain": [
       "<AxesSubplot:xlabel='Date'>"
      ]
     },
     "execution_count": 19,
     "metadata": {},
     "output_type": "execute_result"
    },
    {
     "data": {
      "image/png": "[encoded data removed]",
      "text/plain": [
       "<Figure size 432x288 with 1 Axes>"
      ]
     },
     "metadata": {
      "needs_background": "light"
     },
     "output_type": "display_data"
    }
   ],
   "source": [
    "import statsmodels.api as sm\n",
    "\n",
    "# Apply the Hodrick-Prescott Filter by decomposing the \"Settle\" price into two separate series:\n",
    "ts_noise, ts_trend = sm.tsa.filters.hpfilter(yen_futures['Settle'])\n",
    "ts_trend.plot()"
   ]
  },
  {
   "cell_type": "code",
   "execution_count": 20,
   "metadata": {},
   "outputs": [],
   "source": [
    "# Create a dataframe of just the settle price, and add columns for \"noise\" and \"trend\" series from above:\n",
    "\n",
    "#yen_futures.drop(columns=['Open','High','Low','Last','Change','Volume','Previous Day Open Interest'])\n",
    "merged=pd.concat([yen_futures, ts_noise, ts_trend], axis=1, join=\"inner\")"
   ]
  },
  {
   "cell_type": "code",
   "execution_count": 21,
   "metadata": {},
   "outputs": [
    {
     "data": {
      "text/html": [
       "<div>\n",
       "<style scoped>\n",
       "    .dataframe tbody tr th:only-of-type {\n",
       "        vertical-align: middle;\n",
       "    }\n",
       "\n",
       "    .dataframe tbody tr th {\n",
       "        vertical-align: top;\n",
       "    }\n",
       "\n",
       "    .dataframe thead th {\n",
       "        text-align: right;\n",
       "    }\n",
       "</style>\n",
       "<table border=\"1\" class=\"dataframe\">\n",
       "  <thead>\n",
       "    <tr style=\"text-align: right;\">\n",
       "      <th></th>\n",
       "      <th>Open</th>\n",
       "      <th>High</th>\n",
       "      <th>Low</th>\n",
       "      <th>Last</th>\n",
       "      <th>Change</th>\n",
       "      <th>Settle</th>\n",
       "      <th>Volume</th>\n",
       "      <th>Previous Day Open Interest</th>\n",
       "      <th>Settle_cycle</th>\n",
       "      <th>Settle_trend</th>\n",
       "    </tr>\n",
       "    <tr>\n",
       "      <th>Date</th>\n",
       "      <th></th>\n",
       "      <th></th>\n",
       "      <th></th>\n",
       "      <th></th>\n",
       "      <th></th>\n",
       "      <th></th>\n",
       "      <th></th>\n",
       "      <th></th>\n",
       "      <th></th>\n",
       "      <th></th>\n",
       "    </tr>\n",
       "  </thead>\n",
       "  <tbody>\n",
       "    <tr>\n",
       "      <th>1990-01-02</th>\n",
       "      <td>6954.0</td>\n",
       "      <td>6954.0</td>\n",
       "      <td>6835.0</td>\n",
       "      <td>6847.0</td>\n",
       "      <td>NaN</td>\n",
       "      <td>6847.0</td>\n",
       "      <td>48336.0</td>\n",
       "      <td>51473.0</td>\n",
       "      <td>-61.503967</td>\n",
       "      <td>6908.503967</td>\n",
       "    </tr>\n",
       "    <tr>\n",
       "      <th>1990-01-03</th>\n",
       "      <td>6877.0</td>\n",
       "      <td>6910.0</td>\n",
       "      <td>6865.0</td>\n",
       "      <td>6887.0</td>\n",
       "      <td>NaN</td>\n",
       "      <td>6887.0</td>\n",
       "      <td>38206.0</td>\n",
       "      <td>53860.0</td>\n",
       "      <td>-21.799756</td>\n",
       "      <td>6908.799756</td>\n",
       "    </tr>\n",
       "    <tr>\n",
       "      <th>1990-01-04</th>\n",
       "      <td>6937.0</td>\n",
       "      <td>7030.0</td>\n",
       "      <td>6924.0</td>\n",
       "      <td>7008.0</td>\n",
       "      <td>NaN</td>\n",
       "      <td>7008.0</td>\n",
       "      <td>49649.0</td>\n",
       "      <td>55699.0</td>\n",
       "      <td>98.942896</td>\n",
       "      <td>6909.057104</td>\n",
       "    </tr>\n",
       "    <tr>\n",
       "      <th>1990-01-05</th>\n",
       "      <td>6952.0</td>\n",
       "      <td>6985.0</td>\n",
       "      <td>6942.0</td>\n",
       "      <td>6950.0</td>\n",
       "      <td>NaN</td>\n",
       "      <td>6950.0</td>\n",
       "      <td>29944.0</td>\n",
       "      <td>53111.0</td>\n",
       "      <td>40.776052</td>\n",
       "      <td>6909.223948</td>\n",
       "    </tr>\n",
       "    <tr>\n",
       "      <th>1990-01-08</th>\n",
       "      <td>6936.0</td>\n",
       "      <td>6972.0</td>\n",
       "      <td>6936.0</td>\n",
       "      <td>6959.0</td>\n",
       "      <td>NaN</td>\n",
       "      <td>6959.0</td>\n",
       "      <td>19763.0</td>\n",
       "      <td>52072.0</td>\n",
       "      <td>49.689938</td>\n",
       "      <td>6909.310062</td>\n",
       "    </tr>\n",
       "  </tbody>\n",
       "</table>\n",
       "</div>"
      ],
      "text/plain": [
       "              Open    High     Low    Last  Change  Settle   Volume  \\\n",
       "Date                                                                  \n",
       "1990-01-02  6954.0  6954.0  6835.0  6847.0     NaN  6847.0  48336.0   \n",
       "1990-01-03  6877.0  6910.0  6865.0  6887.0     NaN  6887.0  38206.0   \n",
       "1990-01-04  6937.0  7030.0  6924.0  7008.0     NaN  7008.0  49649.0   \n",
       "1990-01-05  6952.0  6985.0  6942.0  6950.0     NaN  6950.0  29944.0   \n",
       "1990-01-08  6936.0  6972.0  6936.0  6959.0     NaN  6959.0  19763.0   \n",
       "\n",
       "            Previous Day Open Interest  Settle_cycle  Settle_trend  \n",
       "Date                                                                \n",
       "1990-01-02                     51473.0    -61.503967   6908.503967  \n",
       "1990-01-03                     53860.0    -21.799756   6908.799756  \n",
       "1990-01-04                     55699.0     98.942896   6909.057104  \n",
       "1990-01-05                     53111.0     40.776052   6909.223948  \n",
       "1990-01-08                     52072.0     49.689938   6909.310062  "
      ]
     },
     "execution_count": 21,
     "metadata": {},
     "output_type": "execute_result"
    }
   ],
   "source": [
    "merged.head()"
   ]
  },
  {
   "cell_type": "code",
   "execution_count": 22,
   "metadata": {},
   "outputs": [
    {
     "data": {
      "text/html": [
       "<div>\n",
       "<style scoped>\n",
       "    .dataframe tbody tr th:only-of-type {\n",
       "        vertical-align: middle;\n",
       "    }\n",
       "\n",
       "    .dataframe tbody tr th {\n",
       "        vertical-align: top;\n",
       "    }\n",
       "\n",
       "    .dataframe thead th {\n",
       "        text-align: right;\n",
       "    }\n",
       "</style>\n",
       "<table border=\"1\" class=\"dataframe\">\n",
       "  <thead>\n",
       "    <tr style=\"text-align: right;\">\n",
       "      <th></th>\n",
       "      <th>Settle</th>\n",
       "      <th>Settle_cycle</th>\n",
       "      <th>Settle_trend</th>\n",
       "    </tr>\n",
       "    <tr>\n",
       "      <th>Date</th>\n",
       "      <th></th>\n",
       "      <th></th>\n",
       "      <th></th>\n",
       "    </tr>\n",
       "  </thead>\n",
       "  <tbody>\n",
       "    <tr>\n",
       "      <th>1990-01-02</th>\n",
       "      <td>6847.0</td>\n",
       "      <td>-61.503967</td>\n",
       "      <td>6908.503967</td>\n",
       "    </tr>\n",
       "    <tr>\n",
       "      <th>1990-01-03</th>\n",
       "      <td>6887.0</td>\n",
       "      <td>-21.799756</td>\n",
       "      <td>6908.799756</td>\n",
       "    </tr>\n",
       "    <tr>\n",
       "      <th>1990-01-04</th>\n",
       "      <td>7008.0</td>\n",
       "      <td>98.942896</td>\n",
       "      <td>6909.057104</td>\n",
       "    </tr>\n",
       "    <tr>\n",
       "      <th>1990-01-05</th>\n",
       "      <td>6950.0</td>\n",
       "      <td>40.776052</td>\n",
       "      <td>6909.223948</td>\n",
       "    </tr>\n",
       "    <tr>\n",
       "      <th>1990-01-08</th>\n",
       "      <td>6959.0</td>\n",
       "      <td>49.689938</td>\n",
       "      <td>6909.310062</td>\n",
       "    </tr>\n",
       "    <tr>\n",
       "      <th>...</th>\n",
       "      <td>...</td>\n",
       "      <td>...</td>\n",
       "      <td>...</td>\n",
       "    </tr>\n",
       "    <tr>\n",
       "      <th>2019-10-09</th>\n",
       "      <td>9338.0</td>\n",
       "      <td>24.939247</td>\n",
       "      <td>9313.060753</td>\n",
       "    </tr>\n",
       "    <tr>\n",
       "      <th>2019-10-10</th>\n",
       "      <td>9303.5</td>\n",
       "      <td>-5.868559</td>\n",
       "      <td>9309.368559</td>\n",
       "    </tr>\n",
       "    <tr>\n",
       "      <th>2019-10-11</th>\n",
       "      <td>9251.0</td>\n",
       "      <td>-54.454594</td>\n",
       "      <td>9305.454594</td>\n",
       "    </tr>\n",
       "    <tr>\n",
       "      <th>2019-10-14</th>\n",
       "      <td>9265.0</td>\n",
       "      <td>-36.423060</td>\n",
       "      <td>9301.423060</td>\n",
       "    </tr>\n",
       "    <tr>\n",
       "      <th>2019-10-15</th>\n",
       "      <td>9221.5</td>\n",
       "      <td>-75.844123</td>\n",
       "      <td>9297.344123</td>\n",
       "    </tr>\n",
       "  </tbody>\n",
       "</table>\n",
       "<p>7515 rows × 3 columns</p>\n",
       "</div>"
      ],
      "text/plain": [
       "            Settle  Settle_cycle  Settle_trend\n",
       "Date                                          \n",
       "1990-01-02  6847.0    -61.503967   6908.503967\n",
       "1990-01-03  6887.0    -21.799756   6908.799756\n",
       "1990-01-04  7008.0     98.942896   6909.057104\n",
       "1990-01-05  6950.0     40.776052   6909.223948\n",
       "1990-01-08  6959.0     49.689938   6909.310062\n",
       "...            ...           ...           ...\n",
       "2019-10-09  9338.0     24.939247   9313.060753\n",
       "2019-10-10  9303.5     -5.868559   9309.368559\n",
       "2019-10-11  9251.0    -54.454594   9305.454594\n",
       "2019-10-14  9265.0    -36.423060   9301.423060\n",
       "2019-10-15  9221.5    -75.844123   9297.344123\n",
       "\n",
       "[7515 rows x 3 columns]"
      ]
     },
     "execution_count": 22,
     "metadata": {},
     "output_type": "execute_result"
    }
   ],
   "source": [
    "merged.drop(columns=['Open','High','Low','Last','Change','Volume','Previous Day Open Interest'])"
   ]
  },
  {
   "cell_type": "code",
   "execution_count": 25,
   "metadata": {},
   "outputs": [
    {
     "data": {
      "text/plain": [
       "<AxesSubplot:xlabel='Date'>"
      ]
     },
     "execution_count": 25,
     "metadata": {},
     "output_type": "execute_result"
    },
    {
     "data": {
      "image/png": "[encoded data removed]",
      "text/plain": [
       "<Figure size 432x288 with 1 Axes>"
      ]
     },
     "metadata": {
      "needs_background": "light"
     },
     "output_type": "display_data"
    }
   ],
   "source": [
    "# Plot the Settle Price vs. the Trend for 2015 to the present\n",
    "merged[[\"Settle\",\"Settle_trend\"]][\"2015-01-01\":].plot()\n",
    " #could not figure out how to set start date to 2015                "
   ]
  },
  {
   "cell_type": "code",
   "execution_count": 26,
   "metadata": {},
   "outputs": [
    {
     "data": {
      "text/plain": [
       "<AxesSubplot:xlabel='Date'>"
      ]
     },
     "execution_count": 26,
     "metadata": {},
     "output_type": "execute_result"
    },
    {
     "data": {
      "image/png": "[encoded data removed]",
      "text/plain": [
       "<Figure size 432x288 with 1 Axes>"
      ]
     },
     "metadata": {
      "needs_background": "light"
     },
     "output_type": "display_data"
    }
   ],
   "source": [
    "# Plot the Settle Noise\n",
    "merged.plot.line(y=[\"Settle_cycle\"])"
   ]
  },
  {
   "cell_type": "markdown",
   "metadata": {},
   "source": [
    "---"
   ]
  },
  {
   "cell_type": "markdown",
   "metadata": {},
   "source": [
    "# Forecasting Returns using an ARMA Model"
   ]
  },
  {
   "cell_type": "markdown",
   "metadata": {},
   "source": [
    "Using futures Settle *Returns*, estimate an ARMA model\n",
    "\n",
    "1. ARMA: Create an ARMA model and fit it to the returns data. Note: Set the AR and MA (\"p\" and \"q\") parameters to p=2 and q=1: order=(2, 1).\n",
    "2. Output the ARMA summary table and take note of the p-values of the lags. Based on the p-values, is the model a good fit (p < 0.05)?\n",
    "3. Plot the 5-day forecast of the forecasted returns (the results forecast from ARMA model)"
   ]
  },
  {
   "cell_type": "code",
   "execution_count": 27,
   "metadata": {},
   "outputs": [
    {
     "data": {
      "text/html": [
       "<div>\n",
       "<style scoped>\n",
       "    .dataframe tbody tr th:only-of-type {\n",
       "        vertical-align: middle;\n",
       "    }\n",
       "\n",
       "    .dataframe tbody tr th {\n",
       "        vertical-align: top;\n",
       "    }\n",
       "\n",
       "    .dataframe thead th {\n",
       "        text-align: right;\n",
       "    }\n",
       "</style>\n",
       "<table border=\"1\" class=\"dataframe\">\n",
       "  <thead>\n",
       "    <tr style=\"text-align: right;\">\n",
       "      <th></th>\n",
       "      <th>Settle</th>\n",
       "    </tr>\n",
       "    <tr>\n",
       "      <th>Date</th>\n",
       "      <th></th>\n",
       "    </tr>\n",
       "  </thead>\n",
       "  <tbody>\n",
       "    <tr>\n",
       "      <th>2019-10-09</th>\n",
       "      <td>-0.410601</td>\n",
       "    </tr>\n",
       "    <tr>\n",
       "      <th>2019-10-10</th>\n",
       "      <td>-0.369458</td>\n",
       "    </tr>\n",
       "    <tr>\n",
       "      <th>2019-10-11</th>\n",
       "      <td>-0.564304</td>\n",
       "    </tr>\n",
       "    <tr>\n",
       "      <th>2019-10-14</th>\n",
       "      <td>0.151335</td>\n",
       "    </tr>\n",
       "    <tr>\n",
       "      <th>2019-10-15</th>\n",
       "      <td>-0.469509</td>\n",
       "    </tr>\n",
       "  </tbody>\n",
       "</table>\n",
       "</div>"
      ],
      "text/plain": [
       "              Settle\n",
       "Date                \n",
       "2019-10-09 -0.410601\n",
       "2019-10-10 -0.369458\n",
       "2019-10-11 -0.564304\n",
       "2019-10-14  0.151335\n",
       "2019-10-15 -0.469509"
      ]
     },
     "execution_count": 27,
     "metadata": {},
     "output_type": "execute_result"
    }
   ],
   "source": [
    "# Create a series using \"Settle\" price percentage returns, drop any nan\"s, and check the results:\n",
    "# (Make sure to multiply the pct_change() results by 100)\n",
    "# In this case, you may have to replace inf, -inf values with np.nan\"s\n",
    "returns = (yen_futures[[\"Settle\"]].pct_change() * 100)\n",
    "returns = returns.replace(-np.inf, np.nan).dropna()\n",
    "returns.tail()"
   ]
  },
  {
   "cell_type": "code",
   "execution_count": 28,
   "metadata": {},
   "outputs": [
    {
     "name": "stderr",
     "output_type": "stream",
     "text": [
      "C:\\Users\\serra\\anaconda3\\envs\\alpacaenv\\lib\\site-packages\\statsmodels\\tsa\\arima_model.py:472: FutureWarning: \n",
      "statsmodels.tsa.arima_model.ARMA and statsmodels.tsa.arima_model.ARIMA have\n",
      "been deprecated in favor of statsmodels.tsa.arima.model.ARIMA (note the .\n",
      "between arima and model) and\n",
      "statsmodels.tsa.SARIMAX. These will be removed after the 0.12 release.\n",
      "\n",
      "statsmodels.tsa.arima.model.ARIMA makes use of the statespace framework and\n",
      "is both well tested and maintained.\n",
      "\n",
      "To silence this warning and continue using ARMA and ARIMA until they are\n",
      "removed, use:\n",
      "\n",
      "import warnings\n",
      "warnings.filterwarnings('ignore', 'statsmodels.tsa.arima_model.ARMA',\n",
      "                        FutureWarning)\n",
      "warnings.filterwarnings('ignore', 'statsmodels.tsa.arima_model.ARIMA',\n",
      "                        FutureWarning)\n",
      "\n",
      "  warnings.warn(ARIMA_DEPRECATION_WARN, FutureWarning)\n"
     ]
    }
   ],
   "source": [
    "import statsmodels.api as sm\n",
    "from statsmodels.tsa.arima_model import ARMA\n",
    "\n",
    "# Estimate and ARMA model using statsmodels (use order=(2, 1))\n",
    "# YOUR CODE HERE!\n",
    "model = ARMA(returns.values, order=(2,1))\n",
    "\n",
    "# Fit the model and assign it to a variable called results\n",
    "results = model.fit()"
   ]
  },
  {
   "cell_type": "code",
   "execution_count": 29,
   "metadata": {},
   "outputs": [
    {
     "data": {
      "text/html": [
       "<table class=\"simpletable\">\n",
       "<caption>ARMA Model Results</caption>\n",
       "<tr>\n",
       "  <th>Dep. Variable:</th>         <td>y</td>        <th>  No. Observations:  </th>   <td>7514</td>   \n",
       "</tr>\n",
       "<tr>\n",
       "  <th>Model:</th>            <td>ARMA(2, 1)</td>    <th>  Log Likelihood     </th> <td>-7894.071</td>\n",
       "</tr>\n",
       "<tr>\n",
       "  <th>Method:</th>             <td>css-mle</td>     <th>  S.D. of innovations</th>   <td>0.692</td>  \n",
       "</tr>\n",
       "<tr>\n",
       "  <th>Date:</th>          <td>Tue, 08 Jun 2021</td> <th>  AIC                </th> <td>15798.142</td>\n",
       "</tr>\n",
       "<tr>\n",
       "  <th>Time:</th>              <td>19:13:54</td>     <th>  BIC                </th> <td>15832.765</td>\n",
       "</tr>\n",
       "<tr>\n",
       "  <th>Sample:</th>                <td>0</td>        <th>  HQIC               </th> <td>15810.030</td>\n",
       "</tr>\n",
       "<tr>\n",
       "  <th></th>                       <td> </td>        <th>                     </th>     <td> </td>    \n",
       "</tr>\n",
       "</table>\n",
       "<table class=\"simpletable\">\n",
       "<tr>\n",
       "     <td></td>        <th>coef</th>     <th>std err</th>      <th>z</th>      <th>P>|z|</th>  <th>[0.025</th>    <th>0.975]</th>  \n",
       "</tr>\n",
       "<tr>\n",
       "  <th>const</th>   <td>    0.0063</td> <td>    0.008</td> <td>    0.804</td> <td> 0.421</td> <td>   -0.009</td> <td>    0.022</td>\n",
       "</tr>\n",
       "<tr>\n",
       "  <th>ar.L1.y</th> <td>   -0.3064</td> <td>    1.277</td> <td>   -0.240</td> <td> 0.810</td> <td>   -2.810</td> <td>    2.197</td>\n",
       "</tr>\n",
       "<tr>\n",
       "  <th>ar.L2.y</th> <td>   -0.0019</td> <td>    0.019</td> <td>   -0.099</td> <td> 0.921</td> <td>   -0.040</td> <td>    0.036</td>\n",
       "</tr>\n",
       "<tr>\n",
       "  <th>ma.L1.y</th> <td>    0.2949</td> <td>    1.277</td> <td>    0.231</td> <td> 0.817</td> <td>   -2.208</td> <td>    2.798</td>\n",
       "</tr>\n",
       "</table>\n",
       "<table class=\"simpletable\">\n",
       "<caption>Roots</caption>\n",
       "<tr>\n",
       "    <td></td>   <th>            Real</th>  <th>         Imaginary</th> <th>         Modulus</th>  <th>        Frequency</th>\n",
       "</tr>\n",
       "<tr>\n",
       "  <th>AR.1</th> <td>          -3.3326</td> <td>          +0.0000j</td> <td>           3.3326</td> <td>           0.5000</td>\n",
       "</tr>\n",
       "<tr>\n",
       "  <th>AR.2</th> <td>        -157.0960</td> <td>          +0.0000j</td> <td>         157.0960</td> <td>           0.5000</td>\n",
       "</tr>\n",
       "<tr>\n",
       "  <th>MA.1</th> <td>          -3.3914</td> <td>          +0.0000j</td> <td>           3.3914</td> <td>           0.5000</td>\n",
       "</tr>\n",
       "</table>"
      ],
      "text/plain": [
       "<class 'statsmodels.iolib.summary.Summary'>\n",
       "\"\"\"\n",
       "                              ARMA Model Results                              \n",
       "==============================================================================\n",
       "Dep. Variable:                      y   No. Observations:                 7514\n",
       "Model:                     ARMA(2, 1)   Log Likelihood               -7894.071\n",
       "Method:                       css-mle   S.D. of innovations              0.692\n",
       "Date:                Tue, 08 Jun 2021   AIC                          15798.142\n",
       "Time:                        19:13:54   BIC                          15832.765\n",
       "Sample:                             0   HQIC                         15810.030\n",
       "                                                                              \n",
       "==============================================================================\n",
       "                 coef    std err          z      P>|z|      [0.025      0.975]\n",
       "------------------------------------------------------------------------------\n",
       "const          0.0063      0.008      0.804      0.421      -0.009       0.022\n",
       "ar.L1.y       -0.3064      1.277     -0.240      0.810      -2.810       2.197\n",
       "ar.L2.y       -0.0019      0.019     -0.099      0.921      -0.040       0.036\n",
       "ma.L1.y        0.2949      1.277      0.231      0.817      -2.208       2.798\n",
       "                                    Roots                                    \n",
       "=============================================================================\n",
       "                  Real          Imaginary           Modulus         Frequency\n",
       "-----------------------------------------------------------------------------\n",
       "AR.1           -3.3326           +0.0000j            3.3326            0.5000\n",
       "AR.2         -157.0960           +0.0000j          157.0960            0.5000\n",
       "MA.1           -3.3914           +0.0000j            3.3914            0.5000\n",
       "-----------------------------------------------------------------------------\n",
       "\"\"\""
      ]
     },
     "execution_count": 29,
     "metadata": {},
     "output_type": "execute_result"
    }
   ],
   "source": [
    "# Output model summary results:\n",
    "results.summary()"
   ]
  },
  {
   "cell_type": "code",
   "execution_count": 42,
   "metadata": {},
   "outputs": [
    {
     "data": {
      "text/plain": [
       "<AxesSubplot:>"
      ]
     },
     "execution_count": 42,
     "metadata": {},
     "output_type": "execute_result"
    },
    {
     "data": {
      "image/png": "[encoded data removed]",
      "text/plain": [
       "<Figure size 432x288 with 1 Axes>"
      ]
     },
     "metadata": {
      "needs_background": "light"
     },
     "output_type": "display_data"
    }
   ],
   "source": [
    "# Plot the 5 Day Returns Forecast\n",
    "pd.DataFrame(results.forecast(steps=5)[0]).plot()\n"
   ]
  },
  {
   "cell_type": "markdown",
   "metadata": {},
   "source": []
  },
  {
   "cell_type": "markdown",
   "metadata": {},
   "source": [
    "---"
   ]
  },
  {
   "cell_type": "markdown",
   "metadata": {},
   "source": [
    "# Forecasting the Settle Price using an ARIMA Model"
   ]
  },
  {
   "cell_type": "markdown",
   "metadata": {},
   "source": [
    " 1. Using the *raw* Yen **Settle Price**, estimate an ARIMA model.\n",
    "     1. Set P=5, D=1, and Q=1 in the model (e.g., ARIMA(df, order=(5,1,1))\n",
    "     2. P= # of Auto-Regressive Lags, D= # of Differences (this is usually =1), Q= # of Moving Average Lags\n",
    " 2. Output the ARIMA summary table and take note of the p-values of the lags. Based on the p-values, is the model a good fit (p < 0.05)?\n",
    " 3. Construct a 5 day forecast for the Settle Price. What does the model forecast will happen to the Japanese Yen in the near term?"
   ]
  },
  {
   "cell_type": "code",
   "execution_count": 44,
   "metadata": {},
   "outputs": [
    {
     "name": "stderr",
     "output_type": "stream",
     "text": [
      "C:\\Users\\serra\\anaconda3\\envs\\alpacaenv\\lib\\site-packages\\statsmodels\\tsa\\base\\tsa_model.py:583: ValueWarning: A date index has been provided, but it has no associated frequency information and so will be ignored when e.g. forecasting.\n",
      "  ' ignored when e.g. forecasting.', ValueWarning)\n",
      "C:\\Users\\serra\\anaconda3\\envs\\alpacaenv\\lib\\site-packages\\statsmodels\\tsa\\base\\tsa_model.py:583: ValueWarning: A date index has been provided, but it has no associated frequency information and so will be ignored when e.g. forecasting.\n",
      "  ' ignored when e.g. forecasting.', ValueWarning)\n",
      "C:\\Users\\serra\\anaconda3\\envs\\alpacaenv\\lib\\site-packages\\statsmodels\\tsa\\arima_model.py:472: FutureWarning: \n",
      "statsmodels.tsa.arima_model.ARMA and statsmodels.tsa.arima_model.ARIMA have\n",
      "been deprecated in favor of statsmodels.tsa.arima.model.ARIMA (note the .\n",
      "between arima and model) and\n",
      "statsmodels.tsa.SARIMAX. These will be removed after the 0.12 release.\n",
      "\n",
      "statsmodels.tsa.arima.model.ARIMA makes use of the statespace framework and\n",
      "is both well tested and maintained.\n",
      "\n",
      "To silence this warning and continue using ARMA and ARIMA until they are\n",
      "removed, use:\n",
      "\n",
      "import warnings\n",
      "warnings.filterwarnings('ignore', 'statsmodels.tsa.arima_model.ARMA',\n",
      "                        FutureWarning)\n",
      "warnings.filterwarnings('ignore', 'statsmodels.tsa.arima_model.ARIMA',\n",
      "                        FutureWarning)\n",
      "\n",
      "  warnings.warn(ARIMA_DEPRECATION_WARN, FutureWarning)\n"
     ]
    }
   ],
   "source": [
    "from statsmodels.tsa.arima_model import ARIMA\n",
    "\n",
    "# Estimate and ARIMA Model:\n",
    "# Hint: ARIMA(df, order=(p, d, q))\n",
    "# YOUR CODE HERE!\n",
    "model = ARIMA(yen_futures['Settle'], order=(2, 1, 2))\n",
    "\n",
    "# Fit the model\n",
    "results_arima = model.fit(method_kwargs={'maxiter':20})"
   ]
  },
  {
   "cell_type": "code",
   "execution_count": 45,
   "metadata": {},
   "outputs": [
    {
     "data": {
      "text/html": [
       "<table class=\"simpletable\">\n",
       "<caption>ARIMA Model Results</caption>\n",
       "<tr>\n",
       "  <th>Dep. Variable:</th>     <td>D.Settle</td>     <th>  No. Observations:  </th>    <td>7514</td>   \n",
       "</tr>\n",
       "<tr>\n",
       "  <th>Model:</th>          <td>ARIMA(2, 1, 2)</td>  <th>  Log Likelihood     </th> <td>-41945.747</td>\n",
       "</tr>\n",
       "<tr>\n",
       "  <th>Method:</th>             <td>css-mle</td>     <th>  S.D. of innovations</th>   <td>64.290</td>  \n",
       "</tr>\n",
       "<tr>\n",
       "  <th>Date:</th>          <td>Tue, 08 Jun 2021</td> <th>  AIC                </th>  <td>83903.494</td>\n",
       "</tr>\n",
       "<tr>\n",
       "  <th>Time:</th>              <td>19:19:49</td>     <th>  BIC                </th>  <td>83945.041</td>\n",
       "</tr>\n",
       "<tr>\n",
       "  <th>Sample:</th>                <td>1</td>        <th>  HQIC               </th>  <td>83917.759</td>\n",
       "</tr>\n",
       "<tr>\n",
       "  <th></th>                       <td> </td>        <th>                     </th>      <td> </td>    \n",
       "</tr>\n",
       "</table>\n",
       "<table class=\"simpletable\">\n",
       "<tr>\n",
       "         <td></td>           <th>coef</th>     <th>std err</th>      <th>z</th>      <th>P>|z|</th>  <th>[0.025</th>    <th>0.975]</th>  \n",
       "</tr>\n",
       "<tr>\n",
       "  <th>const</th>          <td>    0.3160</td> <td>    0.705</td> <td>    0.448</td> <td> 0.654</td> <td>   -1.066</td> <td>    1.698</td>\n",
       "</tr>\n",
       "<tr>\n",
       "  <th>ar.L1.D.Settle</th> <td>   -0.1334</td> <td>    0.618</td> <td>   -0.216</td> <td> 0.829</td> <td>   -1.345</td> <td>    1.078</td>\n",
       "</tr>\n",
       "<tr>\n",
       "  <th>ar.L2.D.Settle</th> <td>    0.5464</td> <td>    0.433</td> <td>    1.261</td> <td> 0.207</td> <td>   -0.303</td> <td>    1.396</td>\n",
       "</tr>\n",
       "<tr>\n",
       "  <th>ma.L1.D.Settle</th> <td>    0.1181</td> <td>    0.617</td> <td>    0.191</td> <td> 0.848</td> <td>   -1.091</td> <td>    1.327</td>\n",
       "</tr>\n",
       "<tr>\n",
       "  <th>ma.L2.D.Settle</th> <td>   -0.5598</td> <td>    0.440</td> <td>   -1.273</td> <td> 0.203</td> <td>   -1.422</td> <td>    0.302</td>\n",
       "</tr>\n",
       "</table>\n",
       "<table class=\"simpletable\">\n",
       "<caption>Roots</caption>\n",
       "<tr>\n",
       "    <td></td>   <th>            Real</th>  <th>         Imaginary</th> <th>         Modulus</th>  <th>        Frequency</th>\n",
       "</tr>\n",
       "<tr>\n",
       "  <th>AR.1</th> <td>          -1.2363</td> <td>          +0.0000j</td> <td>           1.2363</td> <td>           0.5000</td>\n",
       "</tr>\n",
       "<tr>\n",
       "  <th>AR.2</th> <td>           1.4805</td> <td>          +0.0000j</td> <td>           1.4805</td> <td>           0.0000</td>\n",
       "</tr>\n",
       "<tr>\n",
       "  <th>MA.1</th> <td>          -1.2352</td> <td>          +0.0000j</td> <td>           1.2352</td> <td>           0.5000</td>\n",
       "</tr>\n",
       "<tr>\n",
       "  <th>MA.2</th> <td>           1.4461</td> <td>          +0.0000j</td> <td>           1.4461</td> <td>           0.0000</td>\n",
       "</tr>\n",
       "</table>"
      ],
      "text/plain": [
       "<class 'statsmodels.iolib.summary.Summary'>\n",
       "\"\"\"\n",
       "                             ARIMA Model Results                              \n",
       "==============================================================================\n",
       "Dep. Variable:               D.Settle   No. Observations:                 7514\n",
       "Model:                 ARIMA(2, 1, 2)   Log Likelihood              -41945.747\n",
       "Method:                       css-mle   S.D. of innovations             64.290\n",
       "Date:                Tue, 08 Jun 2021   AIC                          83903.494\n",
       "Time:                        19:19:49   BIC                          83945.041\n",
       "Sample:                             1   HQIC                         83917.759\n",
       "                                                                              \n",
       "==================================================================================\n",
       "                     coef    std err          z      P>|z|      [0.025      0.975]\n",
       "----------------------------------------------------------------------------------\n",
       "const              0.3160      0.705      0.448      0.654      -1.066       1.698\n",
       "ar.L1.D.Settle    -0.1334      0.618     -0.216      0.829      -1.345       1.078\n",
       "ar.L2.D.Settle     0.5464      0.433      1.261      0.207      -0.303       1.396\n",
       "ma.L1.D.Settle     0.1181      0.617      0.191      0.848      -1.091       1.327\n",
       "ma.L2.D.Settle    -0.5598      0.440     -1.273      0.203      -1.422       0.302\n",
       "                                    Roots                                    \n",
       "=============================================================================\n",
       "                  Real          Imaginary           Modulus         Frequency\n",
       "-----------------------------------------------------------------------------\n",
       "AR.1           -1.2363           +0.0000j            1.2363            0.5000\n",
       "AR.2            1.4805           +0.0000j            1.4805            0.0000\n",
       "MA.1           -1.2352           +0.0000j            1.2352            0.5000\n",
       "MA.2            1.4461           +0.0000j            1.4461            0.0000\n",
       "-----------------------------------------------------------------------------\n",
       "\"\"\""
      ]
     },
     "execution_count": 45,
     "metadata": {},
     "output_type": "execute_result"
    }
   ],
   "source": [
    "# Output model summary results:\n",
    "results_arima.summary()"
   ]
  },
  {
   "cell_type": "code",
   "execution_count": 46,
   "metadata": {},
   "outputs": [
    {
     "data": {
      "text/plain": [
       "<AxesSubplot:>"
      ]
     },
     "execution_count": 46,
     "metadata": {},
     "output_type": "execute_result"
    },
    {
     "data": {
      "image/png": "[encoded data removed]",
      "text/plain": [
       "<Figure size 432x288 with 1 Axes>"
      ]
     },
     "metadata": {
      "needs_background": "light"
     },
     "output_type": "display_data"
    }
   ],
   "source": [
    "# Plot the 5 Day Price Forecast\n",
    "pd.DataFrame(results_arima.forecast(steps=5)[0]).plot()\n"
   ]
  },
  {
   "cell_type": "markdown",
   "metadata": {},
   "source": []
  },
  {
   "cell_type": "markdown",
   "metadata": {},
   "source": [
    "---"
   ]
  },
  {
   "cell_type": "markdown",
   "metadata": {},
   "source": [
    "# Volatility Forecasting with GARCH\n",
    "\n",
    "Rather than predicting returns, let's forecast near-term **volatility** of Japanese Yen futures returns. Being able to accurately predict volatility will be extremely useful if we want to trade in derivatives or quantify our maximum loss.\n",
    " \n",
    "Using futures Settle *Returns*, estimate an GARCH model\n",
    "\n",
    "1. GARCH: Create an GARCH model and fit it to the returns data. Note: Set the parameters to p=2 and q=1: order=(2, 1).\n",
    "2. Output the GARCH summary table and take note of the p-values of the lags. Based on the p-values, is the model a good fit (p < 0.05)?\n",
    "3. Plot the 5-day forecast of the volatility."
   ]
  },
  {
   "cell_type": "code",
   "execution_count": 50,
   "metadata": {},
   "outputs": [],
   "source": [
    "import arch"
   ]
  },
  {
   "cell_type": "code",
   "execution_count": 51,
   "metadata": {},
   "outputs": [
    {
     "name": "stdout",
     "output_type": "stream",
     "text": [
      "Iteration:      1,   Func. Count:      5,   Neg. LLF: 7907.752569069989\n",
      "Iteration:      2,   Func. Count:     10,   Neg. LLF: 7499.999539388455\n",
      "Iteration:      3,   Func. Count:     15,   Neg. LLF: 7526.127796070408\n",
      "Iteration:      4,   Func. Count:     20,   Neg. LLF: 7507.683271628448\n",
      "Iteration:      5,   Func. Count:     25,   Neg. LLF: 7492.0881461035715\n",
      "Iteration:      6,   Func. Count:     30,   Neg. LLF: 7502.09587155129\n",
      "Iteration:      7,   Func. Count:     35,   Neg. LLF: 12576.142075672902\n",
      "Iteration:      8,   Func. Count:     41,   Neg. LLF: 7462.596857255197\n",
      "Iteration:      9,   Func. Count:     46,   Neg. LLF: 7462.263687846594\n",
      "Iteration:     10,   Func. Count:     51,   Neg. LLF: 7461.927648765221\n",
      "Iteration:     11,   Func. Count:     55,   Neg. LLF: 7461.927640083815\n",
      "Iteration:     12,   Func. Count:     58,   Neg. LLF: 7461.927640081942\n",
      "Optimization terminated successfully    (Exit mode 0)\n",
      "            Current function value: 7461.927640083815\n",
      "            Iterations: 12\n",
      "            Function evaluations: 58\n",
      "            Gradient evaluations: 12\n"
     ]
    }
   ],
   "source": [
    "# Estimate a GARCH model:\n",
    "model = arch.arch_model(returns, mean=\"Zero\", vol=\"GARCH\", p=1, q=1)\n",
    "\n",
    "# Fit the model\n",
    "res = model.fit()"
   ]
  },
  {
   "cell_type": "code",
   "execution_count": 52,
   "metadata": {},
   "outputs": [
    {
     "data": {
      "text/html": [
       "<table class=\"simpletable\">\n",
       "<caption>Zero Mean - GARCH Model Results</caption>\n",
       "<tr>\n",
       "  <th>Dep. Variable:</th>       <td>Settle</td>       <th>  R-squared:         </th>  <td>   0.000</td> \n",
       "</tr>\n",
       "<tr>\n",
       "  <th>Mean Model:</th>         <td>Zero Mean</td>     <th>  Adj. R-squared:    </th>  <td>   0.000</td> \n",
       "</tr>\n",
       "<tr>\n",
       "  <th>Vol Model:</th>            <td>GARCH</td>       <th>  Log-Likelihood:    </th> <td>  -7461.93</td>\n",
       "</tr>\n",
       "<tr>\n",
       "  <th>Distribution:</th>        <td>Normal</td>       <th>  AIC:               </th> <td>   14929.9</td>\n",
       "</tr>\n",
       "<tr>\n",
       "  <th>Method:</th>        <td>Maximum Likelihood</td> <th>  BIC:               </th> <td>   14950.6</td>\n",
       "</tr>\n",
       "<tr>\n",
       "  <th></th>                        <td></td>          <th>  No. Observations:  </th>    <td>7514</td>   \n",
       "</tr>\n",
       "<tr>\n",
       "  <th>Date:</th>           <td>Tue, Jun 08 2021</td>  <th>  Df Residuals:      </th>    <td>7514</td>   \n",
       "</tr>\n",
       "<tr>\n",
       "  <th>Time:</th>               <td>19:22:32</td>      <th>  Df Model:          </th>      <td>0</td>    \n",
       "</tr>\n",
       "</table>\n",
       "<table class=\"simpletable\">\n",
       "<caption>Volatility Model</caption>\n",
       "<tr>\n",
       "      <td></td>        <th>coef</th>     <th>std err</th>      <th>t</th>       <th>P>|t|</th>     <th>95.0% Conf. Int.</th>   \n",
       "</tr>\n",
       "<tr>\n",
       "  <th>omega</th>    <td>4.2895e-03</td> <td>1.798e-03</td> <td>    2.385</td> <td>1.707e-02</td> <td>[7.646e-04,7.814e-03]</td>\n",
       "</tr>\n",
       "<tr>\n",
       "  <th>alpha[1]</th> <td>    0.0381</td> <td>8.773e-03</td> <td>    4.341</td> <td>1.419e-05</td> <td>[2.089e-02,5.528e-02]</td>\n",
       "</tr>\n",
       "<tr>\n",
       "  <th>beta[1]</th>  <td>    0.9536</td> <td>1.114e-02</td> <td>   85.623</td>   <td>0.000</td>     <td>[  0.932,  0.975]</td>  \n",
       "</tr>\n",
       "</table><br/><br/>Covariance estimator: robust"
      ],
      "text/plain": [
       "<class 'statsmodels.iolib.summary.Summary'>\n",
       "\"\"\"\n",
       "                       Zero Mean - GARCH Model Results                        \n",
       "==============================================================================\n",
       "Dep. Variable:                 Settle   R-squared:                       0.000\n",
       "Mean Model:                 Zero Mean   Adj. R-squared:                  0.000\n",
       "Vol Model:                      GARCH   Log-Likelihood:               -7461.93\n",
       "Distribution:                  Normal   AIC:                           14929.9\n",
       "Method:            Maximum Likelihood   BIC:                           14950.6\n",
       "                                        No. Observations:                 7514\n",
       "Date:                Tue, Jun 08 2021   Df Residuals:                     7514\n",
       "Time:                        19:22:32   Df Model:                            0\n",
       "                              Volatility Model                              \n",
       "============================================================================\n",
       "                 coef    std err          t      P>|t|      95.0% Conf. Int.\n",
       "----------------------------------------------------------------------------\n",
       "omega      4.2895e-03  1.798e-03      2.385  1.707e-02 [7.646e-04,7.814e-03]\n",
       "alpha[1]       0.0381  8.773e-03      4.341  1.419e-05 [2.089e-02,5.528e-02]\n",
       "beta[1]        0.9536  1.114e-02     85.623      0.000     [  0.932,  0.975]\n",
       "============================================================================\n",
       "\n",
       "Covariance estimator: robust\n",
       "\"\"\""
      ]
     },
     "execution_count": 52,
     "metadata": {},
     "output_type": "execute_result"
    }
   ],
   "source": [
    "# Summarize the model results\n",
    "res.summary()"
   ]
  },
  {
   "cell_type": "code",
   "execution_count": 53,
   "metadata": {},
   "outputs": [
    {
     "data": {
      "text/plain": [
       "'2019-10-15'"
      ]
     },
     "execution_count": 53,
     "metadata": {},
     "output_type": "execute_result"
    }
   ],
   "source": [
    "# Find the last day of the dataset\n",
    "last_day = returns.index.max().strftime('%Y-%m-%d')\n",
    "last_day"
   ]
  },
  {
   "cell_type": "code",
   "execution_count": 54,
   "metadata": {},
   "outputs": [
    {
     "name": "stderr",
     "output_type": "stream",
     "text": [
      "C:\\Users\\serra\\anaconda3\\envs\\alpacaenv\\lib\\site-packages\\arch\\__future__\\_utility.py:21: FutureWarning: \n",
      "The default for reindex is True. After September 2021 this will change to\n",
      "False. Set reindex to True or False to silence this message. Alternatively,\n",
      "you can use the import comment\n",
      "\n",
      "from arch.__future__ import reindexing\n",
      "\n",
      "to globally set reindex to True and silence this warning.\n",
      "\n",
      "  FutureWarning,\n"
     ]
    }
   ],
   "source": [
    "# Create a 5 day forecast of volatility\n",
    "forecast_horizon = 5\n",
    "# Start the forecast using the last_day calculated above\n",
    "forecast= res.forecast(start=last_day, horizon=forecast_horizon)"
   ]
  },
  {
   "cell_type": "code",
   "execution_count": 55,
   "metadata": {},
   "outputs": [
    {
     "data": {
      "text/html": [
       "<div>\n",
       "<style scoped>\n",
       "    .dataframe tbody tr th:only-of-type {\n",
       "        vertical-align: middle;\n",
       "    }\n",
       "\n",
       "    .dataframe tbody tr th {\n",
       "        vertical-align: top;\n",
       "    }\n",
       "\n",
       "    .dataframe thead th {\n",
       "        text-align: right;\n",
       "    }\n",
       "</style>\n",
       "<table border=\"1\" class=\"dataframe\">\n",
       "  <thead>\n",
       "    <tr style=\"text-align: right;\">\n",
       "      <th></th>\n",
       "      <th>h.1</th>\n",
       "      <th>h.2</th>\n",
       "      <th>h.3</th>\n",
       "      <th>h.4</th>\n",
       "      <th>h.5</th>\n",
       "    </tr>\n",
       "    <tr>\n",
       "      <th>Date</th>\n",
       "      <th></th>\n",
       "      <th></th>\n",
       "      <th></th>\n",
       "      <th></th>\n",
       "      <th></th>\n",
       "    </tr>\n",
       "  </thead>\n",
       "  <tbody>\n",
       "    <tr>\n",
       "      <th>2019-10-15</th>\n",
       "      <td>7.434026</td>\n",
       "      <td>7.475721</td>\n",
       "      <td>7.516842</td>\n",
       "      <td>7.5574</td>\n",
       "      <td>7.597407</td>\n",
       "    </tr>\n",
       "  </tbody>\n",
       "</table>\n",
       "</div>"
      ],
      "text/plain": [
       "                 h.1       h.2       h.3     h.4       h.5\n",
       "Date                                                      \n",
       "2019-10-15  7.434026  7.475721  7.516842  7.5574  7.597407"
      ]
     },
     "execution_count": 55,
     "metadata": {},
     "output_type": "execute_result"
    }
   ],
   "source": [
    "# Annualize the forecast\n",
    "intermediate = np.sqrt(forecast.variance.dropna() * 252)\n",
    "intermediate.head()"
   ]
  },
  {
   "cell_type": "code",
   "execution_count": 56,
   "metadata": {},
   "outputs": [
    {
     "data": {
      "text/html": [
       "<div>\n",
       "<style scoped>\n",
       "    .dataframe tbody tr th:only-of-type {\n",
       "        vertical-align: middle;\n",
       "    }\n",
       "\n",
       "    .dataframe tbody tr th {\n",
       "        vertical-align: top;\n",
       "    }\n",
       "\n",
       "    .dataframe thead th {\n",
       "        text-align: right;\n",
       "    }\n",
       "</style>\n",
       "<table border=\"1\" class=\"dataframe\">\n",
       "  <thead>\n",
       "    <tr style=\"text-align: right;\">\n",
       "      <th>Date</th>\n",
       "      <th>2019-10-15</th>\n",
       "    </tr>\n",
       "  </thead>\n",
       "  <tbody>\n",
       "    <tr>\n",
       "      <th>h.1</th>\n",
       "      <td>7.434026</td>\n",
       "    </tr>\n",
       "    <tr>\n",
       "      <th>h.2</th>\n",
       "      <td>7.475721</td>\n",
       "    </tr>\n",
       "    <tr>\n",
       "      <th>h.3</th>\n",
       "      <td>7.516842</td>\n",
       "    </tr>\n",
       "    <tr>\n",
       "      <th>h.4</th>\n",
       "      <td>7.557400</td>\n",
       "    </tr>\n",
       "    <tr>\n",
       "      <th>h.5</th>\n",
       "      <td>7.597407</td>\n",
       "    </tr>\n",
       "  </tbody>\n",
       "</table>\n",
       "</div>"
      ],
      "text/plain": [
       "Date  2019-10-15\n",
       "h.1     7.434026\n",
       "h.2     7.475721\n",
       "h.3     7.516842\n",
       "h.4     7.557400\n",
       "h.5     7.597407"
      ]
     },
     "execution_count": 56,
     "metadata": {},
     "output_type": "execute_result"
    }
   ],
   "source": [
    "# Transpose the forecast so that it is easier to plot\n",
    "final = intermediate.dropna().T\n",
    "final.head()"
   ]
  },
  {
   "cell_type": "code",
   "execution_count": 58,
   "metadata": {},
   "outputs": [
    {
     "data": {
      "text/plain": [
       "<AxesSubplot:>"
      ]
     },
     "execution_count": 58,
     "metadata": {},
     "output_type": "execute_result"
    },
    {
     "data": {
      "image/png": "[encoded data removed]",
      "text/plain": [
       "<Figure size 432x288 with 1 Axes>"
      ]
     },
     "metadata": {
      "needs_background": "light"
     },
     "output_type": "display_data"
    }
   ],
   "source": [
    "# Plot the final forecast\n",
    "final.plot()"
   ]
  },
  {
   "cell_type": "markdown",
   "metadata": {},
   "source": [
    "---"
   ]
  },
  {
   "cell_type": "markdown",
   "metadata": {},
   "source": [
    "# Conclusions"
   ]
  },
  {
   "cell_type": "markdown",
   "metadata": {},
   "source": [
    "Based on your time series analysis, would you buy the yen now?\n",
    "\n",
    "Is the risk of the yen expected to increase or decrease?\n",
    "\n",
    "Based on the model evaluation, would you feel confident in using these models for trading?"
   ]
  },
  {
   "cell_type": "markdown",
   "metadata": {},
   "source": [
    "Prices are going up so I would buy the yen. Returns are increasing."
   ]
  }
 ],
 "metadata": {
  "file_extension": ".py",
  "kernelspec": {
   "display_name": "Python 3",
   "language": "python",
   "name": "python3"
  },
  "language_info": {
   "codemirror_mode": {
    "name": "ipython",
    "version": 3
   },
   "file_extension": ".py",
   "mimetype": "text/x-python",
   "name": "python",
   "nbconvert_exporter": "python",
   "pygments_lexer": "ipython3",
   "version": "3.7.9"
  },
  "mimetype": "text/x-python",
  "name": "python",
  "npconvert_exporter": "python",
  "pygments_lexer": "ipython3",
  "version": 3
 },
 "nbformat": 4,
 "nbformat_minor": 4
}
