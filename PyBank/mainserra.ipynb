{
 "cells": [
  {
   "cell_type": "raw",
   "metadata": {},
   "source": [
    "# Set up CSV import\n",
    "\n",
    "import os\n",
    "import csv\n",
    "\n",
    "csv_file = os.path.join(\"c:/users/serRra/desktop\", \"home.csv\")\n",
    "\n",
    "# Goals\n",
    "# 1. Calculate total number of months in dataset\n",
    "# 2. Net P&L over entire period\n",
    "# 3. Average change/delta in P&L\n",
    "# 4. Max increase i. month_date and ii. amount\n",
    "# 5. \"\" DECREASE in losses\n",
    "\n",
    "# Set up variables \n",
    "month_count = 0\n",
    "net_profit = 0\n",
    "average_profit = 0\n",
    "\n",
    "# Set up lists\n",
    "profit = []\n",
    "date = []\n",
    "\n",
    "with open(csv_file) as csvfile:\n",
    "        csvreader = csv.reader(csvfile, delimiter=\",\")\n",
    "        csv_header = next(csvreader)\n",
    "        \n",
    "        # 1. Total number of months in dataset:\n",
    "        for row in csv reader:\n",
    "                count = count + 1\n",
    "            \n",
    "        # 2. Total profit:\n",
    "        net_profit = net_profit + int(row[1])\n",
    "        profit.append(net_profit)\n",
    "        \n",
    "        # 3. average_profit = net_profit / month_count\n",
    "        \n",
    "# Print results\n",
    "print(\"Financial Analysis\")\n",
    "print(\"----------------------------\")\n",
    "print(\"Total months: \" + str(month_count))\n",
    "print(\"Total: \" + str(net_profit))\n",
    "print(\"Average Change: \" + average_profit)\n",
    "\n",
    "# *** NOTE to instructor: I couldn't figure out how to calculate the change, and had difficulty in getting the script to execute. Could use help!"
   ]
  },
  {
   "cell_type": "code",
   "execution_count": null,
   "metadata": {},
   "outputs": [],
   "source": []
  }
 ],
 "metadata": {
  "kernelspec": {
   "display_name": "Python 3",
   "language": "python",
   "name": "python3"
  },
  "language_info": {
   "codemirror_mode": {
    "name": "ipython",
    "version": 3
   },
   "file_extension": ".py",
   "mimetype": "text/x-python",
   "name": "python",
   "nbconvert_exporter": "python",
   "pygments_lexer": "ipython3",
   "version": "3.7.9"
  }
 },
 "nbformat": 4,
 "nbformat_minor": 4
}
